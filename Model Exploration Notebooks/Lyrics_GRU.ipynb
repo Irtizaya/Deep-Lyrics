{
 "cells": [
  {
   "cell_type": "markdown",
   "metadata": {},
   "source": [
    "## Prepare model"
   ]
  },
  {
   "cell_type": "code",
   "execution_count": null,
   "metadata": {},
   "outputs": [],
   "source": [
    "from transformers import  GPT2Tokenizer, TFGPT2LMHeadModel, pipeline\n",
    "from transformers import TFGPT2Model, GPT2Config, TrainingArguments, Trainer\n",
    "from transformers import TextDataset, glue_convert_examples_to_features\n",
    "from transformers import TFTrainer, TFTrainingArguments\n",
    "import tensorflow_datasets as tfds\n",
    "import numpy as np\n",
    "\n",
    "import tensorflow as tf\n",
    "from sklearn.model_selection import train_test_split\n",
    "import os \n",
    "os.environ[\"TF_FORCE_GPU_ALLOW_GROWTH\"]=\"true\""
   ]
  },
  {
   "cell_type": "markdown",
   "metadata": {
    "id": "PyMYbppDIXVl"
   },
   "source": [
    "## Cleaning the lyrics"
   ]
  },
  {
   "cell_type": "code",
   "execution_count": null,
   "metadata": {
    "id": "WpNzCTFjIWRG"
   },
   "outputs": [],
   "source": [
    "lyrics = []\n",
    "\n",
    "lyrics += (open('lyrics.txt').readlines())\n",
    "\n",
    "corpus = [line.strip() for line in corpus if line.strip()!=\"\"]\n",
    "vocab = sorted(set(' '.join(corpus).split(' ')))"
   ]
  },
  {
   "cell_type": "markdown",
   "metadata": {
    "id": "oG0hrv0M0YPc"
   },
   "source": [
    "# Train Model"
   ]
  },
  {
   "cell_type": "code",
   "execution_count": null,
   "metadata": {},
   "outputs": [],
   "source": [
    "rnn_corpus = ' '.join(corpus)\n",
    "vocab = sorted(set(rnn_corpus.split(' ')))"
   ]
  },
  {
   "cell_type": "code",
   "execution_count": null,
   "metadata": {},
   "outputs": [],
   "source": [
    "# Create a mapping from unique characters to indices\n",
    "word2idx = {u:i for i, u in enumerate(vocab)}\n",
    "# Make a copy of the unique set elements in NumPy array format for later use in the decoding the predictions\n",
    "idx2word = np.array(vocab)\n",
    "# Vectorize the text with a for loop\n",
    "text_as_int = np.array([word2idx[c] for c in rnn_corpus.split(' ')])"
   ]
  },
  {
   "cell_type": "code",
   "execution_count": null,
   "metadata": {},
   "outputs": [],
   "source": [
    "seq_length = 12\n",
    "\n",
    "word2idx = {u:i for i, u in enumerate(vocab)}\n",
    "\n",
    "idx2word = np.array(vocab)\n",
    "\n",
    "text_as_int = [word2idx[c] for c in rnn_corpus.split(' ')]\n",
    "seq_as_int = []\n",
    "for i in range(len(text_as_int) - seq_length):\n",
    "    seq_as_int += text_as_int[i:i+seq_length]\n",
    "seq_as_int = np.array(seq_as_int)"
   ]
  },
  {
   "cell_type": "code",
   "execution_count": null,
   "metadata": {},
   "outputs": [],
   "source": [
    "len(seq_as_int)"
   ]
  },
  {
   "cell_type": "code",
   "execution_count": null,
   "metadata": {},
   "outputs": [],
   "source": [
    "word_dataset = tf.data.Dataset.from_tensor_slices(seq_as_int) \n",
    "sequences = word_dataset.batch(seq_length, drop_remainder=True)\n",
    "len(sequences)"
   ]
  },
  {
   "cell_type": "code",
   "execution_count": null,
   "metadata": {},
   "outputs": [],
   "source": []
  },
  {
   "cell_type": "code",
   "execution_count": null,
   "metadata": {},
   "outputs": [],
   "source": [
    "def split_input_target(chunk):\n",
    "  input_text = chunk[:-1]\n",
    "  target_text = chunk[1:]\n",
    "  return input_text, target_text\n",
    "\n",
    "dataset = sequences.map(split_input_target)"
   ]
  },
  {
   "cell_type": "code",
   "execution_count": null,
   "metadata": {},
   "outputs": [],
   "source": [
    "BUFFER_SIZE = 20000 # TF shuffles the data only within buffers\n",
    "\n",
    "BATCH_SIZE = 512 # Batch size\n",
    "\n",
    "dataset = dataset.batch(BATCH_SIZE, drop_remainder=True)\n",
    "\n",
    "print(dataset)"
   ]
  },
  {
   "cell_type": "code",
   "execution_count": null,
   "metadata": {},
   "outputs": [],
   "source": [
    "# Length of the vocabulary in chars\n",
    "vocab_size = len(vocab)\n",
    "# The embedding dimension\n",
    "embedding_dim = 256\n",
    "# Number of RNN units\n",
    "rnn_units = 1024"
   ]
  },
  {
   "cell_type": "code",
   "execution_count": null,
   "metadata": {},
   "outputs": [],
   "source": [
    "def build_model(vocab_size, embedding_dim, rnn_units, batch_size):\n",
    "  model = tf.keras.Sequential([\n",
    "    tf.keras.layers.Embedding(vocab_size, embedding_dim,\n",
    "                              batch_input_shape=[batch_size, None]),\n",
    "    tf.keras.layers.GRU(rnn_units,\n",
    "                        return_sequences=True,\n",
    "                        stateful=True,\n",
    "                        recurrent_initializer='glorot_uniform'),\n",
    "    tf.keras.layers.Dense(vocab_size)\n",
    "  ])\n",
    "  return model"
   ]
  },
  {
   "cell_type": "code",
   "execution_count": null,
   "metadata": {
    "scrolled": true
   },
   "outputs": [],
   "source": [
    "model = build_model(\n",
    "    vocab_size = len(vocab), # no. of unique characters\n",
    "    embedding_dim=embedding_dim, # 256\n",
    "    rnn_units=rnn_units, # 1024\n",
    "    batch_size=BATCH_SIZE)  # 64 for the traning\n",
    "\n",
    "model.summary()"
   ]
  },
  {
   "cell_type": "code",
   "execution_count": null,
   "metadata": {},
   "outputs": [],
   "source": [
    "def loss(labels, logits):\n",
    "    return tf.keras.losses.sparse_categorical_crossentropy(labels, logits, from_logits=True)\n",
    "\n",
    "model.compile(optimizer='adam', loss=loss)"
   ]
  },
  {
   "cell_type": "code",
   "execution_count": null,
   "metadata": {},
   "outputs": [],
   "source": [
    "# Directory where the checkpoints will be saved\n",
    "checkpoint_dir = './RNN_training_checkpoints'\n",
    "# Name of the checkpoint files\n",
    "checkpoint_prefix = os.path.join(checkpoint_dir, \"ckpt_{epoch}\")\n",
    "\n",
    "checkpoint_callback=tf.keras.callbacks.ModelCheckpoint(\n",
    "    filepath=checkpoint_prefix,\n",
    "    save_weights_only=True)"
   ]
  },
  {
   "cell_type": "code",
   "execution_count": null,
   "metadata": {},
   "outputs": [],
   "source": [
    "EPOCHS = 30\n",
    "history = model.fit(dataset, \n",
    "                    epochs=EPOCHS, \n",
    "                    callbacks=[checkpoint_callback])"
   ]
  },
  {
   "cell_type": "code",
   "execution_count": null,
   "metadata": {},
   "outputs": [],
   "source": [
    "tf.train.latest_checkpoint(checkpoint_dir)"
   ]
  },
  {
   "cell_type": "code",
   "execution_count": null,
   "metadata": {},
   "outputs": [],
   "source": [
    "model = build_model(vocab_size, embedding_dim, rnn_units, batch_size=1)\n",
    "model.load_weights('./RNN_training_checkpoints/ckpt_20')\n",
    "model.build(tf.TensorShape([1, None]))\n",
    "model.summary()"
   ]
  },
  {
   "cell_type": "code",
   "execution_count": null,
   "metadata": {},
   "outputs": [],
   "source": [
    "def generate_text(model, num_generate, temperature, start_string):\n",
    "    input_eval = [word2idx[s.lower()] for s in start_string.split(' ') if s.lower() in word2idx.keys()] # string to numbers (vectorizing)\n",
    "    input_eval = tf.expand_dims(input_eval, 0) # dimension expansion\n",
    "    text_generated = [] # Empty string to store our results\n",
    "    model.reset_states() # Clears the hidden states in the RNN\n",
    "\n",
    "    for i in range(num_generate): #Run a loop for number of characters to generate\n",
    "        predictions = model(input_eval) # prediction for single character\n",
    "        predictions = tf.squeeze(predictions, 0) # remove the batch dimension\n",
    "\n",
    "        # using a categorical distribution to predict the character returned by the model\n",
    "        # higher temperature increases the probability of selecting a less likely character\n",
    "        # lower --> more predictable\n",
    "        predictions = predictions / temperature\n",
    "        predicted_id = tf.random.categorical(predictions, num_samples=1)[-1,0].numpy()\n",
    "\n",
    "        # The predicted character as the next input to the model\n",
    "        # along with the previous hidden state\n",
    "        # So the model makes the next prediction based on the previous character\n",
    "        input_eval = tf.expand_dims([predicted_id], 0) \n",
    "        # Also devectorize the number and add to the generated text\n",
    "        text_generated.append(' ' + idx2word[predicted_id]) \n",
    "\n",
    "    return (start_string + ''.join(text_generated))"
   ]
  },
  {
   "cell_type": "code",
   "execution_count": null,
   "metadata": {},
   "outputs": [],
   "source": [
    "generated_text = generate_text(\n",
    "                    model, \n",
    "                    num_generate=50, \n",
    "                    temperature=1, \n",
    "                    start_string=\"Well I m getting pretty tired of being treated like competition When the only one that can hold me down is inside my head\")\n",
    "print(generated_text)"
   ]
  },
  {
   "cell_type": "code",
   "execution_count": null,
   "metadata": {},
   "outputs": [],
   "source": [
    "with open(\"/home/sas/Desktop/GPT2/lyrics.txt\", 'w') as f:\n",
    "    for line in corpus:\n",
    "        f.write(line+'\\n')"
   ]
  }
 ],
 "metadata": {
  "accelerator": "GPU",
  "colab": {
   "collapsed_sections": [],
   "name": "Lyrics_GPT-2.ipynb",
   "provenance": []
  },
  "kernelspec": {
   "display_name": "Python 3",
   "language": "python",
   "name": "python3"
  },
  "language_info": {
   "codemirror_mode": {
    "name": "ipython",
    "version": 3
   },
   "file_extension": ".py",
   "mimetype": "text/x-python",
   "name": "python",
   "nbconvert_exporter": "python",
   "pygments_lexer": "ipython3",
   "version": "3.9.1"
  }
 },
 "nbformat": 4,
 "nbformat_minor": 1
}
