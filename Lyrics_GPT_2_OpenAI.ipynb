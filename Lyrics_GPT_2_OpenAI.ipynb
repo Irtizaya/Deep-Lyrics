{
  "nbformat": 4,
  "nbformat_minor": 0,
  "metadata": {
    "colab": {
      "name": "Lyrics_GPT-2_OpenAI.ipynb",
      "provenance": [],
      "collapsed_sections": [],
      "include_colab_link": true
    },
    "kernelspec": {
      "name": "python3",
      "display_name": "Python 3"
    },
    "accelerator": "GPU"
  },
  "cells": [
    {
      "cell_type": "markdown",
      "metadata": {
        "id": "view-in-github",
        "colab_type": "text"
      },
      "source": [
        "<a href=\"https://colab.research.google.com/github/sasualx/Deep-Lyrics/blob/master/Lyrics_GPT_2_OpenAI.ipynb\" target=\"_parent\"><img src=\"https://colab.research.google.com/assets/colab-badge.svg\" alt=\"Open In Colab\"/></a>"
      ]
    },
    {
      "cell_type": "code",
      "metadata": {
        "id": "Haq1tZukp-aK"
      },
      "source": [
        "from google.colab import drive\r\n",
        "drive.mount('/content/drive')\r\n",
        "path = \"/content/drive/My Drive/\" + \"DL-NLP/Data/\""
      ],
      "execution_count": null,
      "outputs": []
    },
    {
      "cell_type": "markdown",
      "metadata": {
        "id": "StWFYdjKwZCE"
      },
      "source": [
        "# Cloning the OpenAI GPT-2 repo"
      ]
    },
    {
      "cell_type": "code",
      "metadata": {
        "id": "1KbiHqmuu1Nz"
      },
      "source": [
        "#run once\r\n",
        "%cd /content/drive/My\\ Drive/DL-NLP/\r\n",
        "!mkdir gpt-2\r\n",
        "%cd gpt-2\r\n",
        "!git clone https://github.com/mohamad-ali-nasser/gpt-2.git\r\n",
        "%cd cd gpt-2\r\n"
      ],
      "execution_count": null,
      "outputs": []
    },
    {
      "cell_type": "code",
      "metadata": {
        "id": "QTcdzbvkwJE-"
      },
      "source": [
        "%cd /content/drive/My\\ Drive/DL-NLP/gpt-2/gpt-2"
      ],
      "execution_count": null,
      "outputs": []
    },
    {
      "cell_type": "markdown",
      "metadata": {
        "id": "CiDb8SD0ws02"
      },
      "source": [
        "# Downloading model, requirements and Tensorflow"
      ]
    },
    {
      "cell_type": "code",
      "metadata": {
        "id": "1QOCsAwE4dnO"
      },
      "source": [
        "!python3 download_model.py 117M"
      ],
      "execution_count": null,
      "outputs": []
    },
    {
      "cell_type": "code",
      "metadata": {
        "id": "zhQvMhduwQb5"
      },
      "source": [
        "!pip3 install -r requirements.txt"
      ],
      "execution_count": null,
      "outputs": []
    },
    {
      "cell_type": "code",
      "metadata": {
        "id": "V-7VxGUmyBU3"
      },
      "source": [
        "!pip install tensorflow-gpu==1.15.0\r\n",
        "!pip install 'tensorflow-estimator<1.15.0rc0,>=1.14.0rc0' --force-reinstall"
      ],
      "execution_count": null,
      "outputs": []
    },
    {
      "cell_type": "markdown",
      "metadata": {
        "id": "a6uqvIwrwX9A"
      },
      "source": [
        "Installing Cuda v9.0 to run models faster"
      ]
    },
    {
      "cell_type": "code",
      "metadata": {
        "id": "f6V7wZaPyGkt"
      },
      "source": [
        "!wget https://developer.nvidia.com/compute/cuda/9.0/Prod/local_installers/cuda-repo-ubuntu1604-9-0-local_9.0.176-1_amd64-deb\r\n",
        "!dpkg -i cuda-repo-ubuntu1604-9-0-local_9.0.176-1_amd64-deb\r\n",
        "!apt-key add /var/cuda-repo-*/7fa2af80.pub\r\n",
        "!apt-get update\r\n",
        "!apt-get install cuda-9-0\r\n",
        "!export LD_LIBRARY_PATH=$LD_LIBRARY_PATH:/usr/local/cuda-9.0/lib64/"
      ],
      "execution_count": null,
      "outputs": []
    },
    {
      "cell_type": "code",
      "metadata": {
        "id": "qX69NBG-zVr1"
      },
      "source": [
        "%cd /content/drive/My\\ Drive/DL-NLP/gpt-2/gpt-2/"
      ],
      "execution_count": null,
      "outputs": []
    },
    {
      "cell_type": "markdown",
      "metadata": {
        "id": "xCSSxNo3_Tnk"
      },
      "source": [
        "Changing permissions"
      ]
    },
    {
      "cell_type": "code",
      "metadata": {
        "id": "WtNklw5z_S-J"
      },
      "source": [
        "!chmod 755 -R /content/drive/My\\ Drive/DL-NLP/gpt-2/gpt-2/"
      ],
      "execution_count": null,
      "outputs": []
    },
    {
      "cell_type": "markdown",
      "metadata": {
        "id": "PyMYbppDIXVl"
      },
      "source": [
        "## Cleaning the lyrics"
      ]
    },
    {
      "cell_type": "code",
      "metadata": {
        "id": "WpNzCTFjIWRG"
      },
      "source": [
        "path = \"/content/drive/My Drive/\" + \"DL-NLP/Data/\"\r\n",
        "lyrics = open(path + \"Cleaned_Misc.txt\").read()\r\n",
        "stopWords = [\"(\",\")\",\"[\",\"]\",\"/\",\"\\\\\",\".\",\",\",\":\",'\"',\"-\", \"*\", \"&\", \"@\", \"$\", \"%\", \"|\", \"^\", \"+\"]\r\n",
        "removeWords = [\"[chorus:]\", \"chorus\", \"(chorus)\", \"chorus:\", \"chorus 2x\", \"[chorus]\", \"verse\", \"guitar\", \"intro\", \"solo\", \"riff\", \"bridge\", \"outro\" ]\r\n",
        "corpus = lyrics.lower().split(\"\\n\")\r\n"
      ],
      "execution_count": null,
      "outputs": []
    },
    {
      "cell_type": "code",
      "metadata": {
        "id": "rk2lQIsDIWTy"
      },
      "source": [
        "for i in range(len(stopWords)):\r\n",
        "  corpus = [line.replace(stopWords[i], \"\") for line in corpus]\r\n",
        "\r\n",
        "for j in range(len(removeWords)):\r\n",
        "  corpus = [line.replace(removeWords[j], \"\") for line in corpus]\r\n",
        "\r\n",
        "corpus = [word.strip() for word in corpus if word.strip()!=\"\"]"
      ],
      "execution_count": null,
      "outputs": []
    },
    {
      "cell_type": "markdown",
      "metadata": {
        "id": "GD874N310ZdI"
      },
      "source": [
        "Run the following cell to keep only unique lines"
      ]
    },
    {
      "cell_type": "code",
      "metadata": {
        "id": "Z7H6uRPw0Ymj"
      },
      "source": [
        "# lines_seen = set() \r\n",
        "\r\n",
        "# outfile = open('./Song lyrics/New_Cleaned_Misc.txt', \"wt\", encoding='utf-8')\r\n",
        "# for line in corpus:\r\n",
        "#     if line not in lines_seen: \r\n",
        "#         outfile.write(line)\r\n",
        "#         outfile.write(\"\\n\")\r\n",
        "#         lines_seen.add(line)\r\n",
        "# outfile.close()"
      ],
      "execution_count": null,
      "outputs": []
    },
    {
      "cell_type": "code",
      "metadata": {
        "id": "021_CjwdJ2H4"
      },
      "source": [
        "with open(\"/content/drive/My Drive/DL-NLP/Generated/New_Cleaned_Misc.txt\", \"wt\") as f:\r\n",
        "    for item in corpus:\r\n",
        "        f.write(\"%s\\n\" % item)"
      ],
      "execution_count": null,
      "outputs": []
    },
    {
      "cell_type": "code",
      "metadata": {
        "id": "e3Pe0HYHKP1J"
      },
      "source": [
        "f.close()"
      ],
      "execution_count": null,
      "outputs": []
    },
    {
      "cell_type": "markdown",
      "metadata": {
        "id": "oG0hrv0M0YPc"
      },
      "source": [
        "# Restart runtime and finetune the model\r\n",
        "* Currently using cleaned dataset with multiple aritsts\r\n",
        "* Change run_name as needed"
      ]
    },
    {
      "cell_type": "code",
      "metadata": {
        "id": "3yTdejJYDLbE"
      },
      "source": [
        "%cd /content/drive/My\\ Drive/DL-NLP/gpt-2/gpt-2/"
      ],
      "execution_count": null,
      "outputs": []
    },
    {
      "cell_type": "code",
      "metadata": {
        "id": "-JQasUhb0WiM"
      },
      "source": [
        "!PYTHONPATH=src ./train.py --dataset src/Cleaned_Misc.txt --model_name '117M' --batch_size 1 --learning_rate 0.00001 --run_name run4"
      ],
      "execution_count": null,
      "outputs": []
    },
    {
      "cell_type": "markdown",
      "metadata": {
        "id": "Di9ciVH3EpFh"
      },
      "source": [
        "## Copy checkpoints and generate lyrics"
      ]
    },
    {
      "cell_type": "code",
      "metadata": {
        "id": "uJ3t92r11k7R"
      },
      "source": [
        "!cp -r /content/drive/My\\ Drive/DL-NLP/gpt-2/gpt-2/checkpoint/run4 /content/drive/My\\ Drive/DL-NLP/checkpoint/run4"
      ],
      "execution_count": null,
      "outputs": []
    },
    {
      "cell_type": "code",
      "metadata": {
        "id": "kdmUAvvBEoOd"
      },
      "source": [
        "!cp -r /content/drive/My\\ Drive/DL-NLP/gpt-2/gpt-2/checkpoint/run4/* /content/drive/My\\ Drive/DL-NLP/gpt-2/gpt-2/models/117M/"
      ],
      "execution_count": null,
      "outputs": []
    },
    {
      "cell_type": "code",
      "metadata": {
        "id": "vYNKe1zGFgJn"
      },
      "source": [
        "import os\r\n",
        "%cd src\r\n",
        "from conditional_model import conditional_model\r\n",
        "%cd .."
      ],
      "execution_count": null,
      "outputs": []
    },
    {
      "cell_type": "code",
      "metadata": {
        "id": "PZMdyDGvFoTG"
      },
      "source": [
        "conditional_model??"
      ],
      "execution_count": null,
      "outputs": []
    },
    {
      "cell_type": "code",
      "metadata": {
        "id": "jqu3Hr6WFqTH"
      },
      "source": [
        "new_lyrics = conditional_model(model_name = '117M', seed=1, sentences=[\"I'm tired of the same old chords\"], temperature= 0.8)"
      ],
      "execution_count": null,
      "outputs": []
    },
    {
      "cell_type": "code",
      "metadata": {
        "colab": {
          "base_uri": "https://localhost:8080/"
        },
        "id": "LdT_PVM4Ov5B",
        "outputId": "7821c1c5-e4a6-4e79-970f-0f7c78973232"
      },
      "source": [
        "for key in new_lyrics:\r\n",
        "  print(new_lyrics[key])"
      ],
      "execution_count": null,
      "outputs": [
        {
          "output_type": "stream",
          "text": [
            "I'm tired of the same old chords\n",
            "we just wanna play together\n",
            "and hear this song again\n",
            "oh yeah\n",
            "and i'm just gonna play with you\n",
            "cause what you got ain't gonna fix your life\n",
            "so make this what you gonna make mine\n",
            "this ain't nothin' i know about\n",
            "so don't you make this what you gonna make mine\n",
            "this ain't nothin' i know about\n",
            "so what you doing with all this hate?\n",
            "i got to get clean up your soul\n",
            "you little piece of me has got to be clean\n",
            "girl you got to get that way\n",
            "when you get high you got me high\n",
            "so why you crying baby?\n",
            "cause what you got ain't gonna fix your life\n",
            "so make this what you gonna make mine\n",
            "this ain't nothin' i know about\n",
            "you say you're done with me\n",
            "you said you're doing the time\n",
            "all you've gotta do is call me baby\n",
            "let me be your man\n",
            "you say you're coming back\n",
            "coming back just the same\n",
            "just the same\n",
            "so why you crying baby?\n",
            "cause what you got ain't gonna\n",
            "you say you're coming back\n",
            "coming back just the same\n",
            "just the same\n",
            "girl what you doing with all this hate?\n",
            "i've been searching everywhere\n",
            "everywhere\n",
            "everybody i've been\n",
            "been waiting for this moment to come back to me\n",
            "i know that you've waited so long\n",
            "so why you crying baby?\n",
            "cause what you got ain't gonna\n",
            "you say you're coming back\n",
            "coming back just the same\n",
            "just the same\n",
            "so why you crying baby?\n",
            "cause what you got ain't\n",
            "oh what you doing with all this hate?\n",
            "i've been searching everywhere\n",
            "oh everywhere\n",
            "oh everywhere\n",
            "oh everywhere\n",
            "oh everywhere\n",
            "oh oh oh oh now greetings to the world! standing at this liquor store\n",
            "i see these guys they don t look too good\n",
            "but they m looking for a girl with that type of attitude\n",
            "she knows that i do too\n",
            "so she says let me down i say stupidit\n",
            "oh let me down i m falling in love with\n",
            "you know you m trying hard to be me\n",
            "but it looks like they s just as dumb as they really are\n",
            "hey hey i m so flat out\n",
            "ironymything so\n",
            "i can t help myself anymore oh i m so flat out\n",
            "ironymything so don t you brag bout it\n",
            "we got the clothes on\n",
            "the team got the players brag bout it\n",
            "it\n"
          ],
          "name": "stdout"
        }
      ]
    },
    {
      "cell_type": "code",
      "metadata": {
        "id": "-46lJ5wuLvHt"
      },
      "source": [
        "# for older checkpoints\r\n",
        "#!cp -r /content/drive/path/gpt-2/checkpoint/run1/* /content/gpt-2/models/117M"
      ],
      "execution_count": null,
      "outputs": []
    }
  ]
}